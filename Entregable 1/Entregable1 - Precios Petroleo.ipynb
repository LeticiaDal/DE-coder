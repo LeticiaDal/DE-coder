{
 "cells": [
  {
   "cell_type": "code",
   "execution_count": 2,
   "id": "03c83f31-7e58-4904-bc2b-200c43dbe9fe",
   "metadata": {
    "tags": []
   },
   "outputs": [],
   "source": [
    "import requests\n",
    "import urllib.parse\n",
    "\n",
    "#consumo datos de la api datos.gob.ar\n",
    "def get_api_call(ids, **kwargs):\n",
    "    API_BASE_URL = \"https://apis.datos.gob.ar/series/api/\"\n",
    "    kwargs[\"ids\"] = \",\".join(ids)\n",
    "    return \"{}{}?{}\".format(API_BASE_URL, \"series\", urllib.parse.urlencode(kwargs))   "
   ]
  },
  {
   "cell_type": "code",
   "execution_count": 3,
   "id": "4b7b22ea-f52d-4d88-9120-611581910cbc",
   "metadata": {
    "tags": []
   },
   "outputs": [
    {
     "name": "stdout",
     "output_type": "stream",
     "text": [
      "https://apis.datos.gob.ar/series/api/series?ids=Precio_petroleo_RgR2vi\n"
     ]
    }
   ],
   "source": [
    "# JSON de precios del petroleo \n",
    "api_call = get_api_call([\"Precio_petroleo_RgR2vi\"])\n",
    "print(api_call)"
   ]
  },
  {
   "cell_type": "code",
   "execution_count": 4,
   "id": "dd83275c-5f57-4dee-84d8-e8df479c62c1",
   "metadata": {
    "tags": []
   },
   "outputs": [
    {
     "name": "stdout",
     "output_type": "stream",
     "text": [
      "{'data': [['1980-01-01', 37.0], ['1980-02-01', 37.0], ['1980-03-01', 39.5], ['1980-04-01', 39.5], ['1980-05-01', 39.5], ['1980-06-01', 39.5], ['1980-07-01', 39.5], ['1980-08-01', 38.0], ['1980-09-01', 36.0], ['1980-10-01', 36.0], ['1980-11-01', 36.0], ['1980-12-01', 37.0], ['1981-01-01', 38.0], ['1981-02-01', 38.0], ['1981-03-01', 38.0], ['1981-04-01', 38.0], ['1981-05-01', 36.0], ['1981-06-01', 36.0], ['1981-07-01', 35.0], ['1981-08-01', 35.0], ['1981-09-01', 35.0], ['1981-10-01', 35.0], ['1981-11-01', 35.0], ['1981-12-01', 35.0], ['1982-01-01', 35.0], ['1982-02-01', 34.0], ['1982-03-01', 33.0], ['1982-04-01', 32.0], ['1982-05-01', 32.0], ['1982-06-01', 32.0], ['1982-07-01', 32.0], ['1982-08-01', 32.0], ['1982-09-01', 32.0], ['1982-10-01', 33.0], ['1982-11-01', 33.0], ['1982-12-01', 32.0], ['1983-01-01', 32.0], ['1983-02-01', 30.0], ['1983-03-01', 29.2], ['1983-04-01', 30.5], ['1983-05-01', 30.2], ['1983-06-01', 31.0], ['1983-07-01', 31.6], ['1983-08-01', 31.9], ['1983-09-01', 31.2], ['1983-10-01', 30.4], ['1983-11-01', 30.0], ['1983-12-01', 29.2], ['1984-01-01', 29.7], ['1984-02-01', 30.1], ['1984-03-01', 30.8], ['1984-04-01', 30.6], ['1984-05-01', 30.6], ['1984-06-01', 30.0], ['1984-07-01', 28.6], ['1984-08-01', 29.3], ['1984-09-01', 29.4], ['1984-10-01', 28.8], ['1984-11-01', 28.1], ['1984-12-01', 26.9], ['1985-01-01', 25.7], ['1985-02-01', 27.3], ['1985-03-01', 28.4], ['1985-04-01', 28.8], ['1985-05-01', 27.6], ['1985-06-01', 27.2], ['1985-07-01', 27.3], ['1985-08-01', 27.8], ['1985-09-01', 28.3], ['1985-10-01', 29.6], ['1985-11-01', 30.8], ['1985-12-01', 27.2], ['1986-01-01', 22.9], ['1986-02-01', 15.4], ['1986-03-01', 12.5], ['1986-04-01', 12.9], ['1986-05-01', 15.4], ['1986-06-01', 13.6], ['1986-07-01', 11.6], ['1986-08-01', 15.1], ['1986-09-01', 15.0], ['1986-10-01', 14.9], ['1986-11-01', 15.2], ['1986-12-01', 16.1], ['1987-01-01', 18.7], ['1987-02-01', 17.8], ['1987-03-01', 18.4], ['1987-04-01', 18.7], ['1987-05-01', 19.4], ['1987-06-01', 20.1], ['1987-07-01', 21.3], ['1987-08-01', 20.3], ['1987-09-01', 19.6], ['1987-10-01', 19.9], ['1987-11-01', 19.0], ['1987-12-01', 17.3], ['1988-01-01', 17.1], ['1988-02-01', 16.7], ['1988-03-01', 16.2], ['1988-04-01', 17.9]], 'count': 475, 'meta': [{'frequency': 'month', 'start_date': '1980-01-01', 'end_date': '1988-04-01'}, {'catalog': {'title': 'Estadisticas Productivas'}, 'dataset': {'title': 'Indicadores Sectoriales de Energía', 'description': 'Resumen de los principales indicadores del sector de Energía.', 'source': 'Ministerio de Producción. Secretaría de la Transformación Productiva. Subsecretaría de Desarrollo y Planeamiento Productivo.', 'issued': '2018-06-12'}, 'distribution': {'title': 'Energía: precio internacional del petróleo (series)', 'downloadURL': 'http://estadisticas.produccion.gob.ar/app/dataset/8/distribution/8.1/precio-petro-series.csv'}, 'field': {'description': 'Energía: precio internacional del petróleo', 'id': 'Precio_petroleo_RgR2vi', 'units': 'Dólares por barril', 'representation_mode': 'value', 'representation_mode_units': 'Dólares por barril'}}], 'params': {'ids': 'Precio_petroleo_RgR2vi', 'identifiers': [{'id': 'Precio_petroleo_RgR2vi', 'distribution': '8.1', 'dataset': '8'}]}}\n"
     ]
    }
   ],
   "source": [
    "#extraigo el JSON\n",
    "result = requests.get(api_call).json()\n",
    "print(result)"
   ]
  },
  {
   "cell_type": "code",
   "execution_count": 7,
   "id": "baf0c558-c222-4608-9dda-0f11c64d8a91",
   "metadata": {
    "tags": []
   },
   "outputs": [
    {
     "name": "stdout",
     "output_type": "stream",
     "text": [
      "Requirement already satisfied: psycopg2-binary in /opt/conda/lib/python3.10/site-packages (2.9.6)\n"
     ]
    }
   ],
   "source": [
    "!pip install psycopg2-binary"
   ]
  },
  {
   "cell_type": "code",
   "execution_count": 8,
   "id": "8bcae839-283b-4125-9d38-30eade501769",
   "metadata": {
    "tags": []
   },
   "outputs": [
    {
     "name": "stdout",
     "output_type": "stream",
     "text": [
      "Requirement already satisfied: pyspark in /usr/local/spark-3.4.0-bin-hadoop3/python (3.4.0)\n",
      "Requirement already satisfied: py4j==0.10.9.7 in /opt/conda/lib/python3.10/site-packages (from pyspark) (0.10.9.7)\n"
     ]
    }
   ],
   "source": [
    "!pip install pyspark"
   ]
  },
  {
   "cell_type": "code",
   "execution_count": 9,
   "id": "30e792bc-f27a-43dc-97fd-8baa8cb9a8da",
   "metadata": {
    "tags": []
   },
   "outputs": [],
   "source": [
    "# Crear sesion de Spark\n",
    "import os\n",
    "import psycopg2\n",
    "\n",
    "from pyspark.sql import SparkSession\n",
    "from pyspark.sql.functions import when, lit, col\n",
    "\n",
    "# Postgres and Redshift JDBCs\n",
    "driver_path = \"/home/coder/working_dir/driver_jdbc/postgresql-42.2.27.jre7.jar\"\n",
    "\n",
    "os.environ['PYSPARK_SUBMIT_ARGS'] = f'--driver-class-path {driver_path} --jars {driver_path} pyspark-shell'\n",
    "os.environ['SPARK_CLASSPATH'] = driver_path\n",
    "\n",
    "# Create SparkSession \n",
    "spark = SparkSession.builder \\\n",
    "        .master(\"local\") \\\n",
    "        .appName(\"Conexion entre Pyspark y Redshift\") \\\n",
    "        .config(\"spark.jars\", driver_path) \\\n",
    "        .config(\"spark.executor.extraClassPath\", driver_path) \\\n",
    "        .getOrCreate()\n"
   ]
  },
  {
   "cell_type": "code",
   "execution_count": 10,
   "id": "7e614a5e-577c-4749-8995-863f69e5334d",
   "metadata": {
    "tags": []
   },
   "outputs": [],
   "source": [
    "env = os.environ"
   ]
  },
  {
   "cell_type": "code",
   "execution_count": 11,
   "id": "f7e899b6-e4c0-4e1e-9a17-45d1c761bc8b",
   "metadata": {
    "tags": []
   },
   "outputs": [],
   "source": [
    "connection = psycopg2.connect(\n",
    "    host=env['AWS_REDSHIFT_HOST'],\n",
    "    port=env['AWS_REDSHIFT_PORT'],\n",
    "    dbname=env['AWS_REDSHIFT_DBNAME'],\n",
    "    user=env['AWS_REDSHIFT_USER'],\n",
    "    password=env['AWS_REDSHIFT_PASSWORD'],\n",
    ")"
   ]
  },
  {
   "cell_type": "code",
   "execution_count": 12,
   "id": "378e3ff3-7cd0-4eea-8753-8420697aee96",
   "metadata": {
    "tags": []
   },
   "outputs": [
    {
     "name": "stdout",
     "output_type": "stream",
     "text": [
      "Table created!\n"
     ]
    }
   ],
   "source": [
    "# creacion de tabla en redshift           \n",
    "cursor = connection.cursor()\n",
    "cursor.execute(f\"\"\"\n",
    "create table if not exists {env['AWS_REDSHIFT_SCHEMA']}.precio_petroleo (\n",
    "    fecha VARCHAR(10) distkey,\n",
    "    precio DECIMAL(6,1),\n",
    "    frecuencia VARCHAR(12)\n",
    ") sortkey(fecha);\n",
    "\"\"\")\n",
    "connection.commit()\n",
    "cursor.close()\n",
    "print(\"Table created!\")"
   ]
  },
  {
   "cell_type": "code",
   "execution_count": 14,
   "id": "866ef1a5-bfa9-4ebc-b146-86eb9b3f7bf4",
   "metadata": {
    "tags": []
   },
   "outputs": [
    {
     "name": "stdout",
     "output_type": "stream",
     "text": [
      "root\n",
      " |-- fecha: string (nullable = true)\n",
      " |-- precio: double (nullable = true)\n",
      "\n",
      "+----------+------+\n",
      "|     fecha|precio|\n",
      "+----------+------+\n",
      "|1980-01-01|  37.0|\n",
      "|1980-02-01|  37.0|\n",
      "|1980-03-01|  39.5|\n",
      "|1980-04-01|  39.5|\n",
      "|1980-05-01|  39.5|\n",
      "|1980-06-01|  39.5|\n",
      "|1980-07-01|  39.5|\n",
      "|1980-08-01|  38.0|\n",
      "|1980-09-01|  36.0|\n",
      "|1980-10-01|  36.0|\n",
      "|1980-11-01|  36.0|\n",
      "|1980-12-01|  37.0|\n",
      "|1981-01-01|  38.0|\n",
      "|1981-02-01|  38.0|\n",
      "|1981-03-01|  38.0|\n",
      "|1981-04-01|  38.0|\n",
      "|1981-05-01|  36.0|\n",
      "|1981-06-01|  36.0|\n",
      "|1981-07-01|  35.0|\n",
      "|1981-08-01|  35.0|\n",
      "+----------+------+\n",
      "only showing top 20 rows\n",
      "\n"
     ]
    }
   ],
   "source": [
    "# Creacion del DataFrame con los datos \n",
    "df = spark.createDataFrame(result['data'],[\"fecha\", \"precio\"])\n",
    "df.printSchema()\n",
    "df.show()"
   ]
  },
  {
   "cell_type": "code",
   "execution_count": 19,
   "id": "dbe4efb3-ff2b-404f-bdbb-6d60617dca06",
   "metadata": {
    "tags": []
   },
   "outputs": [
    {
     "name": "stdout",
     "output_type": "stream",
     "text": [
      "root\n",
      " |-- fecha: string (nullable = true)\n",
      " |-- precio: double (nullable = true)\n",
      " |-- frecuencia: string (nullable = false)\n",
      "\n",
      "+----------+------+----------+\n",
      "|     fecha|precio|frecuencia|\n",
      "+----------+------+----------+\n",
      "|1980-01-01|  37.0|   Mensual|\n",
      "|1980-02-01|  37.0|   Mensual|\n",
      "|1980-03-01|  39.5|   Mensual|\n",
      "|1980-04-01|  39.5|   Mensual|\n",
      "|1980-05-01|  39.5|   Mensual|\n",
      "|1980-06-01|  39.5|   Mensual|\n",
      "|1980-07-01|  39.5|   Mensual|\n",
      "|1980-08-01|  38.0|   Mensual|\n",
      "|1980-09-01|  36.0|   Mensual|\n",
      "|1980-10-01|  36.0|   Mensual|\n",
      "|1980-11-01|  36.0|   Mensual|\n",
      "|1980-12-01|  37.0|   Mensual|\n",
      "|1981-01-01|  38.0|   Mensual|\n",
      "|1981-02-01|  38.0|   Mensual|\n",
      "|1981-03-01|  38.0|   Mensual|\n",
      "|1981-04-01|  38.0|   Mensual|\n",
      "|1981-05-01|  36.0|   Mensual|\n",
      "|1981-06-01|  36.0|   Mensual|\n",
      "|1981-07-01|  35.0|   Mensual|\n",
      "|1981-08-01|  35.0|   Mensual|\n",
      "+----------+------+----------+\n",
      "only showing top 20 rows\n",
      "\n"
     ]
    }
   ],
   "source": [
    "df_to_write = df.withColumn('frecuencia', lit('Mensual'))\n",
    "df_to_write.printSchema()\n",
    "df_to_write.show()"
   ]
  },
  {
   "cell_type": "code",
   "execution_count": 20,
   "id": "d0a3ea54-89ce-4f47-b096-b681817f10b7",
   "metadata": {
    "tags": []
   },
   "outputs": [],
   "source": [
    "#carga el dataframe en la tabla de redshift\n",
    "df_to_write.write \\\n",
    "    .format(\"jdbc\") \\\n",
    "    .option(\"url\", f\"jdbc:postgresql://{env['AWS_REDSHIFT_HOST']}:{env['AWS_REDSHIFT_PORT']}/{env['AWS_REDSHIFT_DBNAME']}\") \\\n",
    "    .option(\"dbtable\", f\"{env['AWS_REDSHIFT_SCHEMA']}.precio_petroleo\") \\\n",
    "    .option(\"user\", env['AWS_REDSHIFT_USER']) \\\n",
    "    .option(\"password\", env['AWS_REDSHIFT_PASSWORD']) \\\n",
    "    .option(\"driver\", \"org.postgresql.Driver\") \\\n",
    "    .mode(\"overwrite\") \\\n",
    "    .save()"
   ]
  },
  {
   "cell_type": "code",
   "execution_count": 15,
   "id": "c6c22b04-a44f-469a-b93c-26de11c2ac13",
   "metadata": {
    "tags": []
   },
   "outputs": [],
   "source": [
    "# chequeo con una consulta si los datos estan en la tabla creada en redshift\n",
    "query = f\"select * from {env['AWS_REDSHIFT_SCHEMA']}.precio_petroleo\"\n",
    "data = spark.read \\\n",
    "    .format(\"jdbc\") \\\n",
    "    .option(\"url\", f\"jdbc:postgresql://{env['AWS_REDSHIFT_HOST']}:{env['AWS_REDSHIFT_PORT']}/{env['AWS_REDSHIFT_DBNAME']}\") \\\n",
    "    .option(\"dbtable\", f\"({query}) as tmp_table\") \\\n",
    "    .option(\"user\", env['AWS_REDSHIFT_USER']) \\\n",
    "    .option(\"password\", env['AWS_REDSHIFT_PASSWORD']) \\\n",
    "    .option(\"driver\", \"org.postgresql.Driver\") \\\n",
    "    .load()"
   ]
  },
  {
   "cell_type": "code",
   "execution_count": 16,
   "id": "fcab38df-2e7d-4328-8a8a-7cea41564b85",
   "metadata": {
    "tags": []
   },
   "outputs": [
    {
     "name": "stdout",
     "output_type": "stream",
     "text": [
      "root\n",
      " |-- fecha: string (nullable = true)\n",
      " |-- precio: double (nullable = true)\n",
      " |-- frecuencia: string (nullable = true)\n",
      "\n",
      "+----------+------+----------+\n",
      "|     fecha|precio|frecuencia|\n",
      "+----------+------+----------+\n",
      "|1980-01-01|  37.0|   Mensual|\n",
      "|1980-02-01|  37.0|   Mensual|\n",
      "|1980-03-01|  39.5|   Mensual|\n",
      "|1980-04-01|  39.5|   Mensual|\n",
      "|1980-05-01|  39.5|   Mensual|\n",
      "|1980-06-01|  39.5|   Mensual|\n",
      "|1980-07-01|  39.5|   Mensual|\n",
      "|1980-08-01|  38.0|   Mensual|\n",
      "|1980-09-01|  36.0|   Mensual|\n",
      "|1980-10-01|  36.0|   Mensual|\n",
      "|1980-11-01|  36.0|   Mensual|\n",
      "|1980-12-01|  37.0|   Mensual|\n",
      "|1981-01-01|  38.0|   Mensual|\n",
      "|1981-02-01|  38.0|   Mensual|\n",
      "|1981-03-01|  38.0|   Mensual|\n",
      "|1981-04-01|  38.0|   Mensual|\n",
      "|1981-05-01|  36.0|   Mensual|\n",
      "|1981-06-01|  36.0|   Mensual|\n",
      "|1981-07-01|  35.0|   Mensual|\n",
      "|1981-08-01|  35.0|   Mensual|\n",
      "+----------+------+----------+\n",
      "only showing top 20 rows\n",
      "\n"
     ]
    }
   ],
   "source": [
    "data.printSchema()\n",
    "data.show()"
   ]
  },
  {
   "cell_type": "code",
   "execution_count": 17,
   "id": "48e828d2-e42e-4d3f-8a95-0f76195c2b4e",
   "metadata": {
    "tags": []
   },
   "outputs": [],
   "source": [
    "connection.close()"
   ]
  },
  {
   "cell_type": "code",
   "execution_count": null,
   "id": "5d25cc4d-9173-456b-9dda-1f69aadfd5fe",
   "metadata": {},
   "outputs": [],
   "source": []
  }
 ],
 "metadata": {
  "kernelspec": {
   "display_name": "Python 3 (ipykernel)",
   "language": "python",
   "name": "python3"
  },
  "language_info": {
   "codemirror_mode": {
    "name": "ipython",
    "version": 3
   },
   "file_extension": ".py",
   "mimetype": "text/x-python",
   "name": "python",
   "nbconvert_exporter": "python",
   "pygments_lexer": "ipython3",
   "version": "3.10.10"
  }
 },
 "nbformat": 4,
 "nbformat_minor": 5
}
