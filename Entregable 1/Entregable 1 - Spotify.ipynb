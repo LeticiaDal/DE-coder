{
 "cells": [
  {
   "cell_type": "markdown",
   "id": "d027def9-8ea0-40dd-ac77-d464142eead6",
   "metadata": {},
   "source": [
    "## Para este ejercicio uso la API de Spotify y extraigo los new releases de albums en Argentina\n"
   ]
  },
  {
   "cell_type": "code",
   "execution_count": 18,
   "id": "0f3e8ee8",
   "metadata": {
    "tags": []
   },
   "outputs": [
    {
     "name": "stdout",
     "output_type": "stream",
     "text": [
      "Requirement already satisfied: spotipy in /opt/conda/lib/python3.10/site-packages (2.23.0)\n",
      "Requirement already satisfied: redis>=3.5.3 in /opt/conda/lib/python3.10/site-packages (from spotipy) (4.5.5)\n",
      "Requirement already satisfied: requests>=2.25.0 in /opt/conda/lib/python3.10/site-packages (from spotipy) (2.28.2)\n",
      "Requirement already satisfied: six>=1.15.0 in /opt/conda/lib/python3.10/site-packages (from spotipy) (1.16.0)\n",
      "Requirement already satisfied: urllib3>=1.26.0 in /opt/conda/lib/python3.10/site-packages (from spotipy) (1.26.15)\n",
      "Requirement already satisfied: async-timeout>=4.0.2 in /opt/conda/lib/python3.10/site-packages (from redis>=3.5.3->spotipy) (4.0.2)\n",
      "Requirement already satisfied: charset-normalizer<4,>=2 in /opt/conda/lib/python3.10/site-packages (from requests>=2.25.0->spotipy) (3.1.0)\n",
      "Requirement already satisfied: idna<4,>=2.5 in /opt/conda/lib/python3.10/site-packages (from requests>=2.25.0->spotipy) (3.4)\n",
      "Requirement already satisfied: certifi>=2017.4.17 in /opt/conda/lib/python3.10/site-packages (from requests>=2.25.0->spotipy) (2022.12.7)\n",
      "Requirement already satisfied: datasets in /opt/conda/lib/python3.10/site-packages (2.12.0)\n",
      "Requirement already satisfied: numpy>=1.17 in /opt/conda/lib/python3.10/site-packages (from datasets) (1.23.5)\n",
      "Requirement already satisfied: pyarrow>=8.0.0 in /opt/conda/lib/python3.10/site-packages (from datasets) (11.0.0)\n",
      "Requirement already satisfied: dill<0.3.7,>=0.3.0 in /opt/conda/lib/python3.10/site-packages (from datasets) (0.3.6)\n",
      "Requirement already satisfied: pandas in /opt/conda/lib/python3.10/site-packages (from datasets) (2.0.0)\n",
      "Requirement already satisfied: requests>=2.19.0 in /opt/conda/lib/python3.10/site-packages (from datasets) (2.28.2)\n",
      "Requirement already satisfied: tqdm>=4.62.1 in /opt/conda/lib/python3.10/site-packages (from datasets) (4.65.0)\n",
      "Requirement already satisfied: xxhash in /opt/conda/lib/python3.10/site-packages (from datasets) (3.2.0)\n",
      "Requirement already satisfied: multiprocess in /opt/conda/lib/python3.10/site-packages (from datasets) (0.70.14)\n",
      "Requirement already satisfied: fsspec[http]>=2021.11.1 in /opt/conda/lib/python3.10/site-packages (from datasets) (2023.4.0)\n",
      "Requirement already satisfied: aiohttp in /opt/conda/lib/python3.10/site-packages (from datasets) (3.8.4)\n",
      "Requirement already satisfied: huggingface-hub<1.0.0,>=0.11.0 in /opt/conda/lib/python3.10/site-packages (from datasets) (0.15.1)\n",
      "Requirement already satisfied: packaging in /opt/conda/lib/python3.10/site-packages (from datasets) (23.1)\n",
      "Requirement already satisfied: responses<0.19 in /opt/conda/lib/python3.10/site-packages (from datasets) (0.18.0)\n",
      "Requirement already satisfied: pyyaml>=5.1 in /opt/conda/lib/python3.10/site-packages (from datasets) (6.0)\n",
      "Requirement already satisfied: attrs>=17.3.0 in /opt/conda/lib/python3.10/site-packages (from aiohttp->datasets) (22.2.0)\n",
      "Requirement already satisfied: charset-normalizer<4.0,>=2.0 in /opt/conda/lib/python3.10/site-packages (from aiohttp->datasets) (3.1.0)\n",
      "Requirement already satisfied: multidict<7.0,>=4.5 in /opt/conda/lib/python3.10/site-packages (from aiohttp->datasets) (6.0.4)\n",
      "Requirement already satisfied: async-timeout<5.0,>=4.0.0a3 in /opt/conda/lib/python3.10/site-packages (from aiohttp->datasets) (4.0.2)\n",
      "Requirement already satisfied: yarl<2.0,>=1.0 in /opt/conda/lib/python3.10/site-packages (from aiohttp->datasets) (1.9.2)\n",
      "Requirement already satisfied: frozenlist>=1.1.1 in /opt/conda/lib/python3.10/site-packages (from aiohttp->datasets) (1.3.3)\n",
      "Requirement already satisfied: aiosignal>=1.1.2 in /opt/conda/lib/python3.10/site-packages (from aiohttp->datasets) (1.3.1)\n",
      "Requirement already satisfied: filelock in /opt/conda/lib/python3.10/site-packages (from huggingface-hub<1.0.0,>=0.11.0->datasets) (3.12.0)\n",
      "Requirement already satisfied: typing-extensions>=3.7.4.3 in /opt/conda/lib/python3.10/site-packages (from huggingface-hub<1.0.0,>=0.11.0->datasets) (4.5.0)\n",
      "Requirement already satisfied: idna<4,>=2.5 in /opt/conda/lib/python3.10/site-packages (from requests>=2.19.0->datasets) (3.4)\n",
      "Requirement already satisfied: urllib3<1.27,>=1.21.1 in /opt/conda/lib/python3.10/site-packages (from requests>=2.19.0->datasets) (1.26.15)\n",
      "Requirement already satisfied: certifi>=2017.4.17 in /opt/conda/lib/python3.10/site-packages (from requests>=2.19.0->datasets) (2022.12.7)\n",
      "Requirement already satisfied: python-dateutil>=2.8.2 in /opt/conda/lib/python3.10/site-packages (from pandas->datasets) (2.8.2)\n",
      "Requirement already satisfied: pytz>=2020.1 in /opt/conda/lib/python3.10/site-packages (from pandas->datasets) (2023.3)\n",
      "Requirement already satisfied: tzdata>=2022.1 in /opt/conda/lib/python3.10/site-packages (from pandas->datasets) (2023.3)\n",
      "Requirement already satisfied: six>=1.5 in /opt/conda/lib/python3.10/site-packages (from python-dateutil>=2.8.2->pandas->datasets) (1.16.0)\n",
      "Collecting psycopg2-binary\n",
      "  Downloading psycopg2_binary-2.9.6-cp310-cp310-manylinux_2_17_x86_64.manylinux2014_x86_64.whl (3.0 MB)\n",
      "\u001b[2K     \u001b[90m━━━━━━━━━━━━━━━━━━━━━━━━━━━━━━━━━━━━━━━━\u001b[0m \u001b[32m3.0/3.0 MB\u001b[0m \u001b[31m2.1 MB/s\u001b[0m eta \u001b[36m0:00:00\u001b[0ma \u001b[36m0:00:01\u001b[0m\n",
      "\u001b[?25hInstalling collected packages: psycopg2-binary\n",
      "Successfully installed psycopg2-binary-2.9.6\n"
     ]
    }
   ],
   "source": [
    "!pip install spotipy --upgrade\n",
    "!pip install -U datasets\n",
    "!pip install psycopg2-binary"
   ]
  },
  {
   "cell_type": "code",
   "execution_count": 20,
   "id": "a2d43dd7",
   "metadata": {
    "tags": []
   },
   "outputs": [],
   "source": [
    "import spotipy\n",
    "from spotipy.oauth2 import SpotifyClientCredentials\n",
    "\n",
    "import os\n",
    "import psycopg2\n",
    "\n",
    "from pyspark.sql import SparkSession\n",
    "from pyspark.sql.functions import when, lit, col"
   ]
  },
  {
   "cell_type": "code",
   "execution_count": 21,
   "id": "f5a128c2-7e5b-460e-afb4-832e59baa001",
   "metadata": {
    "tags": []
   },
   "outputs": [],
   "source": [
    "env = os.environ"
   ]
  },
  {
   "cell_type": "code",
   "execution_count": 22,
   "id": "51bc02ab",
   "metadata": {
    "tags": []
   },
   "outputs": [],
   "source": [
    "# Configurar las credenciales de cliente de Spotify\n",
    "client_id = env['SPOTIFY_CLIENT_ID']\n",
    "client_secret = env['SPOTIFY_CLIENT_SECRET']\n",
    "\n",
    "# Crear una instancia de SpotifyClientCredentials con las credenciales\n",
    "client_credentials_manager = SpotifyClientCredentials(client_id=client_id, client_secret=client_secret)\n",
    "\n",
    "# Crear una instancia de la clase Spotipy\n",
    "sp = spotipy.Spotify(client_credentials_manager=client_credentials_manager)"
   ]
  },
  {
   "cell_type": "code",
   "execution_count": 23,
   "id": "3c0f9965",
   "metadata": {
    "tags": []
   },
   "outputs": [
    {
     "data": {
      "text/plain": [
       "[('Bizarrap', 'Peso Pluma: Bzrp Music Sessions, Vol. 55', '2023-06-01'),\n",
       " ('LIT killah', 'Los del Espacio', '2023-06-01'),\n",
       " ('Fito Paez', 'EADDA9223', '2023-05-30'),\n",
       " ('C.R.O', 'Temor', '2023-06-01'),\n",
       " ('Usted Señalemelo', 'Tripolar', '2023-05-29'),\n",
       " ('Andrés Calamaro', 'Razzmatazz (En directo Razzmatazz)', '2023-06-02'),\n",
       " ('Juan Wauters', 'Wandering Rebel', '2023-06-02'),\n",
       " ('Bocho', 'DIAMANTE', '2023-06-01'),\n",
       " ('Foo Fighters', 'But Here We Are', '2023-06-02'),\n",
       " ('Manuel García', 'Manuel García en Buenos Aires (En Vivo)', '2023-06-02'),\n",
       " ('Nicki Nicole', 'ALMA', '2023-05-18'),\n",
       " ('Lali', 'LALI', '2023-04-13'),\n",
       " ('Cazzu', 'Nena Trampa (Deluxe Edition)', '2023-04-13'),\n",
       " ('Lola Indigo', 'EL DRAGÓN', '2023-04-13'),\n",
       " ('Connie Isla', 'Isla Mater', '2023-04-13'),\n",
       " ('Milo j', '511', '2023-04-13'),\n",
       " ('Bhavi', 'ABDUCCION', '2023-04-10'),\n",
       " ('Anyi', 'Luz de perla', '2023-04-14'),\n",
       " ('Delfina Dib', 'Directo al Cora', '2023-04-14'),\n",
       " ('Eladio Carrion', '3MEN2 KBRN', '2023-03-17'),\n",
       " ('Manuel Turizo', '2000', '2023-03-17'),\n",
       " ('Los Bunkers', 'Rey', '2023-03-11'),\n",
       " ('Adrián Berra', 'Respirar Bajo el Agua', '2023-03-15'),\n",
       " ('U2', 'Songs Of Surrender', '2023-03-17'),\n",
       " ('Mel Muñiz', 'La Santa Patrona de los Corazones Negros', '2023-03-14'),\n",
       " ('Miley Cyrus', 'Endless Summer Vacation', '2023-03-10'),\n",
       " ('Nicki Nicole', \"NO voy a llorar :')\", '2023-03-09'),\n",
       " ('Turf', 'Renacimiento', '2023-03-10'),\n",
       " ('Los Ángeles Azules', 'Tú Y Tú', '2023-03-10'),\n",
       " ('King Savagge', 'WorKING', '2023-03-09'),\n",
       " ('Princesa Alba', 'Búscate Otra :(', '2023-03-10'),\n",
       " ('Lali', 'Cómprame un Brishito', '2023-03-01'),\n",
       " ('El Mató a un Policía Motorizado', 'Medalla de Oro', '2023-03-03'),\n",
       " ('KAROL G', 'MAÑANA SERÁ BONITO', '2023-02-24'),\n",
       " ('TINI', 'Cupido', '2023-02-16'),\n",
       " ('Duki', 'Si Me Sobrara el Tiempo', '2023-02-16'),\n",
       " ('Polimá Westcoast', 'TU ME QUIERES?', '2023-02-01'),\n",
       " ('KAROL G', 'X SI VOLVEMOS', '2023-02-03'),\n",
       " ('Big One', 'En La Intimidad | CROSSOVER #1', '2023-02-01'),\n",
       " ('Maluma', 'La Fórmula', '2023-02-01'),\n",
       " ('Ñengo Flow', 'Gato de Noche', '2022-12-22'),\n",
       " ('Zoe Gotusso', 'Spotify Singles', '2022-12-22'),\n",
       " ('DrefQuila', 'Diablo Santo', '2022-12-15'),\n",
       " ('ROSALÍA', 'DESPECHÁ RMX', '2022-12-16'),\n",
       " ('Cris Mj', 'Marisola (Remix)', '2022-12-15'),\n",
       " ('Harry Nach', 'LOKOTRON REMIX', '2022-12-16'),\n",
       " ('Denise Rosenthal', 'Centenas De Miles De Años', '2022-12-15'),\n",
       " ('EMI', 'Cada Segundo Dura Una Eternidad', '2022-12-16'),\n",
       " ('León Gieco', 'El Hombrecito Del Mar', '2022-12-16'),\n",
       " ('un muerto mas', 'Verano en Invierno', '2022-12-16')]"
      ]
     },
     "execution_count": 23,
     "metadata": {},
     "output_type": "execute_result"
    }
   ],
   "source": [
    "# Crear lista para almacenar los datos\n",
    "data = []\n",
    "\n",
    "# Obtener los nuevos álbumes desde la fecha límite\n",
    "results = sp.new_releases(country='AR', limit=50)\n",
    "\n",
    "# Recorrer los nuevos álbumes y obtener los datos requeridos\n",
    "for album in results['albums']['items']:\n",
    "        album_fecha = album['release_date']\n",
    "        artista = album['artists'][0]['name']\n",
    "        album_nombre = album['name']\n",
    "        data.append((artista, album_nombre, album_fecha))\n",
    "        \n",
    "data"
   ]
  },
  {
   "cell_type": "code",
   "execution_count": 24,
   "id": "bdf00ac3",
   "metadata": {
    "tags": []
   },
   "outputs": [],
   "source": [
    "# Postgres and Redshift JDBCs\n",
    "driver_path = \"/home/coder/working_dir/driver_jdbc/postgresql-42.2.27.jre7.jar\"\n",
    "\n",
    "os.environ['PYSPARK_SUBMIT_ARGS'] = f'--driver-class-path {driver_path} --jars {driver_path} pyspark-shell'\n",
    "os.environ['SPARK_CLASSPATH'] = driver_path\n",
    "\n",
    "# Create SparkSession \n",
    "spark = SparkSession.builder \\\n",
    "        .master(\"local\") \\\n",
    "        .appName(\"Conexion entre Pyspark y Redshift\") \\\n",
    "        .config(\"spark.jars\", driver_path) \\\n",
    "        .config(\"spark.executor.extraClassPath\", driver_path) \\\n",
    "        .getOrCreate()"
   ]
  },
  {
   "cell_type": "code",
   "execution_count": 25,
   "id": "ef2d34d9-d1ac-451a-a578-b1b1a6f72bba",
   "metadata": {
    "tags": []
   },
   "outputs": [],
   "source": [
    "connection = psycopg2.connect(\n",
    "    host=env['AWS_REDSHIFT_HOST'],\n",
    "    port=env['AWS_REDSHIFT_PORT'],\n",
    "    dbname=env['AWS_REDSHIFT_DBNAME'],\n",
    "    user=env['AWS_REDSHIFT_USER'],\n",
    "    password=env['AWS_REDSHIFT_PASSWORD'],\n",
    ")"
   ]
  },
  {
   "cell_type": "code",
   "execution_count": 26,
   "id": "5e16d3dc",
   "metadata": {
    "tags": []
   },
   "outputs": [
    {
     "name": "stdout",
     "output_type": "stream",
     "text": [
      "root\n",
      " |-- Artista: string (nullable = true)\n",
      " |-- Album: string (nullable = true)\n",
      " |-- Fecha_Release: string (nullable = true)\n",
      "\n",
      "+----------------+--------------------+-------------+\n",
      "|         Artista|               Album|Fecha_Release|\n",
      "+----------------+--------------------+-------------+\n",
      "|        Bizarrap|Peso Pluma: Bzrp ...|   2023-06-01|\n",
      "|      LIT killah|     Los del Espacio|   2023-06-01|\n",
      "|       Fito Paez|           EADDA9223|   2023-05-30|\n",
      "|           C.R.O|               Temor|   2023-06-01|\n",
      "|Usted Señalemelo|            Tripolar|   2023-05-29|\n",
      "| Andrés Calamaro|Razzmatazz (En di...|   2023-06-02|\n",
      "|    Juan Wauters|     Wandering Rebel|   2023-06-02|\n",
      "|           Bocho|            DIAMANTE|   2023-06-01|\n",
      "|    Foo Fighters|     But Here We Are|   2023-06-02|\n",
      "|   Manuel García|Manuel García en ...|   2023-06-02|\n",
      "|    Nicki Nicole|                ALMA|   2023-05-18|\n",
      "|            Lali|                LALI|   2023-04-13|\n",
      "|           Cazzu|Nena Trampa (Delu...|   2023-04-13|\n",
      "|     Lola Indigo|           EL DRAGÓN|   2023-04-13|\n",
      "|     Connie Isla|          Isla Mater|   2023-04-13|\n",
      "|          Milo j|                 511|   2023-04-13|\n",
      "|           Bhavi|           ABDUCCION|   2023-04-10|\n",
      "|            Anyi|        Luz de perla|   2023-04-14|\n",
      "|     Delfina Dib|     Directo al Cora|   2023-04-14|\n",
      "|  Eladio Carrion|          3MEN2 KBRN|   2023-03-17|\n",
      "+----------------+--------------------+-------------+\n",
      "only showing top 20 rows\n",
      "\n"
     ]
    }
   ],
   "source": [
    "# Creacion del DataFrame con los datos \n",
    "df = spark.createDataFrame(data, ['Artista', 'Album', 'Fecha_Release'])\n",
    "df.printSchema()\n",
    "df.show()"
   ]
  },
  {
   "cell_type": "code",
   "execution_count": 28,
   "id": "005a8ff2-dbeb-4492-980a-66a852f3e5e9",
   "metadata": {
    "tags": []
   },
   "outputs": [
    {
     "name": "stdout",
     "output_type": "stream",
     "text": [
      "Table created!\n"
     ]
    }
   ],
   "source": [
    "# creacion de tabla en redshift           \n",
    "cursor = connection.cursor()\n",
    "cursor.execute(f\"\"\"\n",
    "create table if not exists {env['AWS_REDSHIFT_SCHEMA']}.new_releases_spotify (\n",
    "    artista VARCHAR(30) distkey,\n",
    "    album VARCHAR(30),\n",
    "    fecha_release VARCHAR(10)\n",
    ") sortkey(fecha_release);\n",
    "\"\"\")\n",
    "connection.commit()\n",
    "cursor.close()\n",
    "print(\"Table created!\")"
   ]
  },
  {
   "cell_type": "code",
   "execution_count": 29,
   "id": "ed795014-bcdd-48f9-89c2-367074daa4b9",
   "metadata": {
    "tags": []
   },
   "outputs": [],
   "source": [
    "#carga el dataframe en la tabla de redshift\n",
    "df.write \\\n",
    "    .format(\"jdbc\") \\\n",
    "    .option(\"url\", f\"jdbc:postgresql://{env['AWS_REDSHIFT_HOST']}:{env['AWS_REDSHIFT_PORT']}/{env['AWS_REDSHIFT_DBNAME']}\") \\\n",
    "    .option(\"dbtable\", f\"{env['AWS_REDSHIFT_SCHEMA']}.new_releases_spotify\") \\\n",
    "    .option(\"user\", env['AWS_REDSHIFT_USER']) \\\n",
    "    .option(\"password\", env['AWS_REDSHIFT_PASSWORD']) \\\n",
    "    .option(\"driver\", \"org.postgresql.Driver\") \\\n",
    "    .mode(\"overwrite\") \\\n",
    "    .save()"
   ]
  },
  {
   "cell_type": "code",
   "execution_count": 30,
   "id": "54a96e56-2b27-4355-839b-cea75c279313",
   "metadata": {
    "tags": []
   },
   "outputs": [],
   "source": [
    "# chequeo con una consulta si los datos estan en la tabla creada en redshift\n",
    "query = f\"select * from {env['AWS_REDSHIFT_SCHEMA']}.new_releases_spotify\"\n",
    "data = spark.read \\\n",
    "    .format(\"jdbc\") \\\n",
    "    .option(\"url\", f\"jdbc:postgresql://{env['AWS_REDSHIFT_HOST']}:{env['AWS_REDSHIFT_PORT']}/{env['AWS_REDSHIFT_DBNAME']}\") \\\n",
    "    .option(\"dbtable\", f\"({query}) as tmp_table\") \\\n",
    "    .option(\"user\", env['AWS_REDSHIFT_USER']) \\\n",
    "    .option(\"password\", env['AWS_REDSHIFT_PASSWORD']) \\\n",
    "    .option(\"driver\", \"org.postgresql.Driver\") \\\n",
    "    .load()"
   ]
  },
  {
   "cell_type": "code",
   "execution_count": 31,
   "id": "2913cbfa-51b1-4293-8a31-1833305e6d1a",
   "metadata": {
    "tags": []
   },
   "outputs": [
    {
     "name": "stdout",
     "output_type": "stream",
     "text": [
      "root\n",
      " |-- artista: string (nullable = true)\n",
      " |-- album: string (nullable = true)\n",
      " |-- fecha_release: string (nullable = true)\n",
      "\n",
      "+----------------+--------------------+-------------+\n",
      "|         artista|               album|fecha_release|\n",
      "+----------------+--------------------+-------------+\n",
      "|        Bizarrap|Peso Pluma: Bzrp ...|   2023-06-01|\n",
      "|      LIT killah|     Los del Espacio|   2023-06-01|\n",
      "|       Fito Paez|           EADDA9223|   2023-05-30|\n",
      "|           C.R.O|               Temor|   2023-06-01|\n",
      "|Usted Señalemelo|            Tripolar|   2023-05-29|\n",
      "| Andrés Calamaro|Razzmatazz (En di...|   2023-06-02|\n",
      "|    Juan Wauters|     Wandering Rebel|   2023-06-02|\n",
      "|           Bocho|            DIAMANTE|   2023-06-01|\n",
      "|    Foo Fighters|     But Here We Are|   2023-06-02|\n",
      "|   Manuel García|Manuel García en ...|   2023-06-02|\n",
      "|    Nicki Nicole|                ALMA|   2023-05-18|\n",
      "|            Lali|                LALI|   2023-04-13|\n",
      "|           Cazzu|Nena Trampa (Delu...|   2023-04-13|\n",
      "|     Lola Indigo|           EL DRAGÓN|   2023-04-13|\n",
      "|     Connie Isla|          Isla Mater|   2023-04-13|\n",
      "|          Milo j|                 511|   2023-04-13|\n",
      "|           Bhavi|           ABDUCCION|   2023-04-10|\n",
      "|            Anyi|        Luz de perla|   2023-04-14|\n",
      "|     Delfina Dib|     Directo al Cora|   2023-04-14|\n",
      "|  Eladio Carrion|          3MEN2 KBRN|   2023-03-17|\n",
      "+----------------+--------------------+-------------+\n",
      "only showing top 20 rows\n",
      "\n"
     ]
    }
   ],
   "source": [
    "data.printSchema()\n",
    "data.show()"
   ]
  },
  {
   "cell_type": "code",
   "execution_count": 32,
   "id": "35168f39-ff44-4afb-9a0f-9fb4dbe5fdab",
   "metadata": {
    "tags": []
   },
   "outputs": [],
   "source": [
    "connection.close()"
   ]
  }
 ],
 "metadata": {
  "kernelspec": {
   "display_name": "Python 3 (ipykernel)",
   "language": "python",
   "name": "python3"
  },
  "language_info": {
   "codemirror_mode": {
    "name": "ipython",
    "version": 3
   },
   "file_extension": ".py",
   "mimetype": "text/x-python",
   "name": "python",
   "nbconvert_exporter": "python",
   "pygments_lexer": "ipython3",
   "version": "3.10.10"
  }
 },
 "nbformat": 4,
 "nbformat_minor": 5
}
